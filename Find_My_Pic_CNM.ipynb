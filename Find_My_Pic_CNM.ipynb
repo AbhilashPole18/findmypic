{
  "cells": [
    {
      "cell_type": "markdown",
      "metadata": {
        "id": "n8cYzKcTmYqh"
      },
      "source": [
        "# **Find My Pic - ABHILASH SPOLE**\n",
        "*Using ChromaDB and Vector Emebddings*"
      ]
    },
    {
      "cell_type": "code",
      "execution_count": null,
      "metadata": {
        "id": "w4B6nVXylPkV"
      },
      "outputs": [],
      "source": [
        "%%capture\n",
        "!pip install chromadb\n",
        "!pip install pillow\n",
        "!pip install open-clip-torch\n",
        "!pip install matplotlib\n",
        "!pip install gradio"
      ]
    },
    {
      "cell_type": "code",
      "execution_count": null,
      "metadata": {
        "id": "t6W67KLRlZS9"
      },
      "outputs": [],
      "source": [
        "import os\n",
        "import shutil\n",
        "import chromadb\n",
        "from chromadb.utils.embedding_functions import OpenCLIPEmbeddingFunction\n",
        "from chromadb.utils.data_loaders import ImageLoader\n",
        "from matplotlib import pyplot as plt\n",
        "import gradio as gr\n",
        "from PIL import Image\n",
        "\n",
        "images_folder = '/content/drive/MyDrive/fotos_folder'\n",
        "img_files = os.listdir(images_folder)"
      ]
    },
    {
      "cell_type": "code",
      "execution_count": null,
      "metadata": {
        "colab": {
          "base_uri": "https://localhost:8080/",
          "height": 179,
          "referenced_widgets": [
            "564cbdb1ba1d48bfadc251afe91a184f",
            "891ec6333efb431e99dc50a34ad51e26",
            "dad650d0a73e4da1bc7513f7bb89bff4",
            "523b0cd686c94e20ad8c987f95fc3d7c",
            "5c06d5a0b6f74471af9d5b6834356f84",
            "d2011c2166404aaa99c16599e3cb0622",
            "77e2c6e7791e415bb96dda7a256642d9",
            "551f86ee00be4ad28bb5d2df5b03f06e",
            "9cf45f49d6484db48314821a5d32f936",
            "b4288ddcda5e41119b405add4678da82",
            "ebaba51665164019b60dc460aeebf221"
          ]
        },
        "id": "hjp9na52lcSz",
        "outputId": "3532599f-714b-43f4-ce12-30164408220e"
      },
      "outputs": [
        {
          "name": "stderr",
          "output_type": "stream",
          "text": [
            "/usr/local/lib/python3.10/dist-packages/huggingface_hub/utils/_token.py:89: UserWarning: \n",
            "The secret `HF_TOKEN` does not exist in your Colab secrets.\n",
            "To authenticate with the Hugging Face Hub, create a token in your settings tab (https://huggingface.co/settings/tokens), set it as secret in your Google Colab and restart your session.\n",
            "You will be able to reuse this secret in all of your notebooks.\n",
            "Please note that authentication is recommended but still optional to access public models or datasets.\n",
            "  warnings.warn(\n"
          ]
        },
        {
          "data": {
            "application/vnd.jupyter.widget-view+json": {
              "model_id": "564cbdb1ba1d48bfadc251afe91a184f",
              "version_major": 2,
              "version_minor": 0
            },
            "text/plain": [
              "open_clip_pytorch_model.bin:   0%|          | 0.00/605M [00:00<?, ?B/s]"
            ]
          },
          "metadata": {},
          "output_type": "display_data"
        }
      ],
      "source": [
        "# Create database file at folder \"my_vectordb\"\n",
        "chroma_client_cnm = chromadb.PersistentClient(path=\"my_vector_db\")\n",
        "chroma_client_cnm.read_only = False\n",
        "\n",
        "# Instantiate image loader helper.\n",
        "image_loader = ImageLoader()\n",
        "# Instantiate multimodal embedding function.\n",
        "multimodal_fnc = OpenCLIPEmbeddingFunction()"
      ]
    },
    {
      "cell_type": "code",
      "execution_count": null,
      "metadata": {
        "id": "Cg9WeO41lhug"
      },
      "outputs": [],
      "source": [
        "# Create the imeags database to store the embeddings\n",
        "images_db = chroma_client_cnm.get_or_create_collection(name=\"images_db\", embedding_function=multimodal_fnc, data_loader=image_loader)"
      ]
    },
    {
      "cell_type": "code",
      "execution_count": null,
      "metadata": {
        "id": "MOMotYB5ljmk"
      },
      "outputs": [],
      "source": [
        "# Add the images to the database\n",
        "for file in img_files:\n",
        "    file_path = os.path.join(images_folder, file)\n",
        "    images_db.add(\n",
        "        ids=[file],\n",
        "        uris=[file_path],\n",
        "        metadatas=[{'img_category': 'everything'}]\n",
        "\n",
        "    )"
      ]
    },
    {
      "cell_type": "code",
      "execution_count": null,
      "metadata": {
        "colab": {
          "base_uri": "https://localhost:8080/"
        },
        "id": "m1HdiavvllON",
        "outputId": "4de5bc57-cb3f-44e8-d0d3-a6fe4ad321da"
      },
      "outputs": [
        {
          "name": "stdout",
          "output_type": "stream",
          "text": [
            "The Number of Images in your folder is 13\n"
          ]
        }
      ],
      "source": [
        "print(\"The Number of Images in your folder is\", images_db.count())"
      ]
    },
    {
      "cell_type": "code",
      "execution_count": null,
      "metadata": {
        "id": "zyB9oTgHlvQl"
      },
      "outputs": [],
      "source": [
        "def search_images(query):\n",
        "    query_results = images_db.query(\n",
        "        query_texts=[query],\n",
        "        n_results=2,\n",
        "        include=['documents', 'distances', 'metadatas', 'data', 'uris']\n",
        "    )\n",
        "\n",
        "    result_uris = query_results['uris'][0]\n",
        "    result_images = [Image.open(uri) for uri in result_uris]\n",
        "\n",
        "    return result_images\n",
        "\n",
        "iface = gr.Interface(\n",
        "    fn=search_images,\n",
        "    inputs=gr.Textbox(label=\"Search Query\"),\n",
        "    outputs=gr.Gallery(label=\"Matching Images\"),\n",
        "    title=\"Local Image Search Tool\",\n",
        "    description=\"Enter a description of the image you are looking for.\"\n",
        ")\n",
        "\n",
        "iface.launch(debug=True)\n"
      ]
    }
  ],
  "metadata": {
    "colab": {
      "provenance": []
    },
    "kernelspec": {
      "display_name": "Python 3",
      "name": "python3"
    },
    "language_info": {
      "name": "python"
    },
    "widgets": {
      "application/vnd.jupyter.widget-state+json": {
        "523b0cd686c94e20ad8c987f95fc3d7c": {
          "model_module": "@jupyter-widgets/controls",
          "model_module_version": "1.5.0",
          "model_name": "HTMLModel",
          "state": {
            "_dom_classes": [],
            "_model_module": "@jupyter-widgets/controls",
            "_model_module_version": "1.5.0",
            "_model_name": "HTMLModel",
            "_view_count": null,
            "_view_module": "@jupyter-widgets/controls",
            "_view_module_version": "1.5.0",
            "_view_name": "HTMLView",
            "description": "",
            "description_tooltip": null,
            "layout": "IPY_MODEL_b4288ddcda5e41119b405add4678da82",
            "placeholder": "​",
            "style": "IPY_MODEL_ebaba51665164019b60dc460aeebf221",
            "value": " 605M/605M [00:04&lt;00:00, 148MB/s]"
          }
        },
        "551f86ee00be4ad28bb5d2df5b03f06e": {
          "model_module": "@jupyter-widgets/base",
          "model_module_version": "1.2.0",
          "model_name": "LayoutModel",
          "state": {
            "_model_module": "@jupyter-widgets/base",
            "_model_module_version": "1.2.0",
            "_model_name": "LayoutModel",
            "_view_count": null,
            "_view_module": "@jupyter-widgets/base",
            "_view_module_version": "1.2.0",
            "_view_name": "LayoutView",
            "align_content": null,
            "align_items": null,
            "align_self": null,
            "border": null,
            "bottom": null,
            "display": null,
            "flex": null,
            "flex_flow": null,
            "grid_area": null,
            "grid_auto_columns": null,
            "grid_auto_flow": null,
            "grid_auto_rows": null,
            "grid_column": null,
            "grid_gap": null,
            "grid_row": null,
            "grid_template_areas": null,
            "grid_template_columns": null,
            "grid_template_rows": null,
            "height": null,
            "justify_content": null,
            "justify_items": null,
            "left": null,
            "margin": null,
            "max_height": null,
            "max_width": null,
            "min_height": null,
            "min_width": null,
            "object_fit": null,
            "object_position": null,
            "order": null,
            "overflow": null,
            "overflow_x": null,
            "overflow_y": null,
            "padding": null,
            "right": null,
            "top": null,
            "visibility": null,
            "width": null
          }
        },
        "564cbdb1ba1d48bfadc251afe91a184f": {
          "model_module": "@jupyter-widgets/controls",
          "model_module_version": "1.5.0",
          "model_name": "HBoxModel",
          "state": {
            "_dom_classes": [],
            "_model_module": "@jupyter-widgets/controls",
            "_model_module_version": "1.5.0",
            "_model_name": "HBoxModel",
            "_view_count": null,
            "_view_module": "@jupyter-widgets/controls",
            "_view_module_version": "1.5.0",
            "_view_name": "HBoxView",
            "box_style": "",
            "children": [
              "IPY_MODEL_891ec6333efb431e99dc50a34ad51e26",
              "IPY_MODEL_dad650d0a73e4da1bc7513f7bb89bff4",
              "IPY_MODEL_523b0cd686c94e20ad8c987f95fc3d7c"
            ],
            "layout": "IPY_MODEL_5c06d5a0b6f74471af9d5b6834356f84"
          }
        },
        "5c06d5a0b6f74471af9d5b6834356f84": {
          "model_module": "@jupyter-widgets/base",
          "model_module_version": "1.2.0",
          "model_name": "LayoutModel",
          "state": {
            "_model_module": "@jupyter-widgets/base",
            "_model_module_version": "1.2.0",
            "_model_name": "LayoutModel",
            "_view_count": null,
            "_view_module": "@jupyter-widgets/base",
            "_view_module_version": "1.2.0",
            "_view_name": "LayoutView",
            "align_content": null,
            "align_items": null,
            "align_self": null,
            "border": null,
            "bottom": null,
            "display": null,
            "flex": null,
            "flex_flow": null,
            "grid_area": null,
            "grid_auto_columns": null,
            "grid_auto_flow": null,
            "grid_auto_rows": null,
            "grid_column": null,
            "grid_gap": null,
            "grid_row": null,
            "grid_template_areas": null,
            "grid_template_columns": null,
            "grid_template_rows": null,
            "height": null,
            "justify_content": null,
            "justify_items": null,
            "left": null,
            "margin": null,
            "max_height": null,
            "max_width": null,
            "min_height": null,
            "min_width": null,
            "object_fit": null,
            "object_position": null,
            "order": null,
            "overflow": null,
            "overflow_x": null,
            "overflow_y": null,
            "padding": null,
            "right": null,
            "top": null,
            "visibility": null,
            "width": null
          }
        },
        "77e2c6e7791e415bb96dda7a256642d9": {
          "model_module": "@jupyter-widgets/controls",
          "model_module_version": "1.5.0",
          "model_name": "DescriptionStyleModel",
          "state": {
            "_model_module": "@jupyter-widgets/controls",
            "_model_module_version": "1.5.0",
            "_model_name": "DescriptionStyleModel",
            "_view_count": null,
            "_view_module": "@jupyter-widgets/base",
            "_view_module_version": "1.2.0",
            "_view_name": "StyleView",
            "description_width": ""
          }
        },
        "891ec6333efb431e99dc50a34ad51e26": {
          "model_module": "@jupyter-widgets/controls",
          "model_module_version": "1.5.0",
          "model_name": "HTMLModel",
          "state": {
            "_dom_classes": [],
            "_model_module": "@jupyter-widgets/controls",
            "_model_module_version": "1.5.0",
            "_model_name": "HTMLModel",
            "_view_count": null,
            "_view_module": "@jupyter-widgets/controls",
            "_view_module_version": "1.5.0",
            "_view_name": "HTMLView",
            "description": "",
            "description_tooltip": null,
            "layout": "IPY_MODEL_d2011c2166404aaa99c16599e3cb0622",
            "placeholder": "​",
            "style": "IPY_MODEL_77e2c6e7791e415bb96dda7a256642d9",
            "value": "open_clip_pytorch_model.bin: 100%"
          }
        },
        "9cf45f49d6484db48314821a5d32f936": {
          "model_module": "@jupyter-widgets/controls",
          "model_module_version": "1.5.0",
          "model_name": "ProgressStyleModel",
          "state": {
            "_model_module": "@jupyter-widgets/controls",
            "_model_module_version": "1.5.0",
            "_model_name": "ProgressStyleModel",
            "_view_count": null,
            "_view_module": "@jupyter-widgets/base",
            "_view_module_version": "1.2.0",
            "_view_name": "StyleView",
            "bar_color": null,
            "description_width": ""
          }
        },
        "b4288ddcda5e41119b405add4678da82": {
          "model_module": "@jupyter-widgets/base",
          "model_module_version": "1.2.0",
          "model_name": "LayoutModel",
          "state": {
            "_model_module": "@jupyter-widgets/base",
            "_model_module_version": "1.2.0",
            "_model_name": "LayoutModel",
            "_view_count": null,
            "_view_module": "@jupyter-widgets/base",
            "_view_module_version": "1.2.0",
            "_view_name": "LayoutView",
            "align_content": null,
            "align_items": null,
            "align_self": null,
            "border": null,
            "bottom": null,
            "display": null,
            "flex": null,
            "flex_flow": null,
            "grid_area": null,
            "grid_auto_columns": null,
            "grid_auto_flow": null,
            "grid_auto_rows": null,
            "grid_column": null,
            "grid_gap": null,
            "grid_row": null,
            "grid_template_areas": null,
            "grid_template_columns": null,
            "grid_template_rows": null,
            "height": null,
            "justify_content": null,
            "justify_items": null,
            "left": null,
            "margin": null,
            "max_height": null,
            "max_width": null,
            "min_height": null,
            "min_width": null,
            "object_fit": null,
            "object_position": null,
            "order": null,
            "overflow": null,
            "overflow_x": null,
            "overflow_y": null,
            "padding": null,
            "right": null,
            "top": null,
            "visibility": null,
            "width": null
          }
        },
        "d2011c2166404aaa99c16599e3cb0622": {
          "model_module": "@jupyter-widgets/base",
          "model_module_version": "1.2.0",
          "model_name": "LayoutModel",
          "state": {
            "_model_module": "@jupyter-widgets/base",
            "_model_module_version": "1.2.0",
            "_model_name": "LayoutModel",
            "_view_count": null,
            "_view_module": "@jupyter-widgets/base",
            "_view_module_version": "1.2.0",
            "_view_name": "LayoutView",
            "align_content": null,
            "align_items": null,
            "align_self": null,
            "border": null,
            "bottom": null,
            "display": null,
            "flex": null,
            "flex_flow": null,
            "grid_area": null,
            "grid_auto_columns": null,
            "grid_auto_flow": null,
            "grid_auto_rows": null,
            "grid_column": null,
            "grid_gap": null,
            "grid_row": null,
            "grid_template_areas": null,
            "grid_template_columns": null,
            "grid_template_rows": null,
            "height": null,
            "justify_content": null,
            "justify_items": null,
            "left": null,
            "margin": null,
            "max_height": null,
            "max_width": null,
            "min_height": null,
            "min_width": null,
            "object_fit": null,
            "object_position": null,
            "order": null,
            "overflow": null,
            "overflow_x": null,
            "overflow_y": null,
            "padding": null,
            "right": null,
            "top": null,
            "visibility": null,
            "width": null
          }
        },
        "dad650d0a73e4da1bc7513f7bb89bff4": {
          "model_module": "@jupyter-widgets/controls",
          "model_module_version": "1.5.0",
          "model_name": "FloatProgressModel",
          "state": {
            "_dom_classes": [],
            "_model_module": "@jupyter-widgets/controls",
            "_model_module_version": "1.5.0",
            "_model_name": "FloatProgressModel",
            "_view_count": null,
            "_view_module": "@jupyter-widgets/controls",
            "_view_module_version": "1.5.0",
            "_view_name": "ProgressView",
            "bar_style": "success",
            "description": "",
            "description_tooltip": null,
            "layout": "IPY_MODEL_551f86ee00be4ad28bb5d2df5b03f06e",
            "max": 605219813,
            "min": 0,
            "orientation": "horizontal",
            "style": "IPY_MODEL_9cf45f49d6484db48314821a5d32f936",
            "value": 605219813
          }
        },
        "ebaba51665164019b60dc460aeebf221": {
          "model_module": "@jupyter-widgets/controls",
          "model_module_version": "1.5.0",
          "model_name": "DescriptionStyleModel",
          "state": {
            "_model_module": "@jupyter-widgets/controls",
            "_model_module_version": "1.5.0",
            "_model_name": "DescriptionStyleModel",
            "_view_count": null,
            "_view_module": "@jupyter-widgets/base",
            "_view_module_version": "1.2.0",
            "_view_name": "StyleView",
            "description_width": ""
          }
        }
      }
    }
  },
  "nbformat": 4,
  "nbformat_minor": 0
}
